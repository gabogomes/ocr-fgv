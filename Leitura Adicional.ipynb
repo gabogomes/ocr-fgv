{
 "cells": [
  {
   "cell_type": "markdown",
   "metadata": {},
   "source": [
    "# Leituras Adicionais"
   ]
  },
  {
   "cell_type": "markdown",
   "metadata": {},
   "source": [
    "* https://towardsdatascience.com/applied-deep-learning-part-4-convolutional-neural-networks-584bc134c1e2 : Artigo introdutório sobre CNNs aplicadas a Análise e Processamento de Imagens, destacando métodos de CNNs como Convolução, Pooling, Padding e Stride.\n",
    "* https://towardsdatascience.com/a-comprehensive-guide-to-convolutional-neural-networks-the-eli5-way-3bd2b1164a53 : Outro artigo introdutório, mais teórico e visual, sobre CNNs em Processamento de Imagens.\n",
    "* https://towardsdatascience.com/review-densenet-image-classification-b6631a8ef803 : Arquitetura do modelo DenseNet para Inteligência Artificial aplicada a Processamento de Imagens usando CNNs.\n",
    "* https://heartbeat.comet.ml/image-augmentations-with-albumentations-c1ca8fc78db7 : Image Augmentation usando o Albumentations.\n",
    "* https://towardsdatascience.com/image-augmentation-for-deep-learning-using-keras-and-histogram-equalization-9329f6ae5085 : Image Augmentation usando o Keras e Equalização de Histogramas."
   ]
  }
 ],
 "metadata": {
  "kernelspec": {
   "display_name": "Python 3",
   "language": "python",
   "name": "python3"
  },
  "language_info": {
   "codemirror_mode": {
    "name": "ipython",
    "version": 3
   },
   "file_extension": ".py",
   "mimetype": "text/x-python",
   "name": "python",
   "nbconvert_exporter": "python",
   "pygments_lexer": "ipython3",
   "version": "3.8.3"
  }
 },
 "nbformat": 4,
 "nbformat_minor": 4
}
